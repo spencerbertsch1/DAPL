{
 "cells": [
  {
   "cell_type": "markdown",
   "id": "188880d6-9c70-4137-9783-5958c04a16df",
   "metadata": {},
   "source": [
    "# Gentle introductin to web scraping with Pandas\n",
    "\n",
    "- DAPL\n",
    "- Dartmouth \n",
    "- Spring 2022\n",
    "- Author: [Spencer Bertsch](https://github.com/spencerbertsch1)"
   ]
  },
  {
   "cell_type": "markdown",
   "id": "7f23f1f9-5028-427f-bb2c-3264ddd5a648",
   "metadata": {},
   "source": [
    "In this notebook we will be looking at [this wikipedia article.](https://en.wikipedia.org/wiki/1999%E2%80%932000_FA_Premier_League), and the [Indeed job listings](https://www.indeed.com/jobs?q=data%20analyst&l&vjk=3187467df45bfdba) for data analytics positions. \n",
    "\n",
    "Let's first look at information about the FA Premier League in 1999-2000 and answer a few quations about the data displayed on the web. "
   ]
  },
  {
   "cell_type": "code",
   "execution_count": 12,
   "id": "7ea1786d-6bb4-4fee-a696-13e3ade8197d",
   "metadata": {},
   "outputs": [],
   "source": [
    "import pandas as pd\n",
    "import requests\n",
    "from bs4 import BeautifulSoup"
   ]
  },
  {
   "cell_type": "markdown",
   "id": "3eba765e-0b6a-456e-a225-ad7312e7f88d",
   "metadata": {},
   "source": [
    "Import the data as a list of pandas dataframes and find out how many tables were read into memory\n",
    "\n",
    "Use the following URL: https://en.wikipedia.org/wiki/1999%E2%80%932000_FA_Premier_League"
   ]
  },
  {
   "cell_type": "code",
   "execution_count": 13,
   "id": "650e11ef-fec8-4b5b-94d9-9a55b673cf6b",
   "metadata": {},
   "outputs": [
    {
     "name": "stdout",
     "output_type": "stream",
     "text": [
      "<class 'str'>\n"
     ]
    }
   ],
   "source": [
    "URL = \"https://en.wikipedia.org/wiki/1999%E2%80%932000_FA_Premier_League\"\n",
    "page = requests.get(URL)\n",
    "html_text = page.text\n",
    "\n",
    "print(type(html_text))"
   ]
  },
  {
   "cell_type": "markdown",
   "id": "5612e663-955b-47fe-b751-2f4b88a218ad",
   "metadata": {},
   "source": [
    "Let's look at what the html page looks like in raw text format (not so great)"
   ]
  },
  {
   "cell_type": "markdown",
   "id": "ddc9321f-df03-4c53-9138-e5bd27597730",
   "metadata": {},
   "source": [
    "vvv remember to re-comment "
   ]
  },
  {
   "cell_type": "code",
   "execution_count": 14,
   "id": "417be891-a57a-43e5-97a3-3ff94aaca909",
   "metadata": {},
   "outputs": [],
   "source": [
    "# html_text  # <-- uncomment and run, then re-comment and run"
   ]
  },
  {
   "cell_type": "markdown",
   "id": "48531d52-cb0e-4b35-a2c8-3b6227df18fa",
   "metadata": {},
   "source": [
    "^^^ remember to re-comment"
   ]
  },
  {
   "cell_type": "code",
   "execution_count": 15,
   "id": "3633b00d-1dbe-4b31-a64d-6ae9179164ee",
   "metadata": {},
   "outputs": [
    {
     "name": "stdout",
     "output_type": "stream",
     "text": [
      "Number of tables read: 21\n"
     ]
    }
   ],
   "source": [
    "# use pandas to read the url\n",
    "dfs: list = pd.read_html(URL)\n",
    "\n",
    "# print the number of tables read into memory\n",
    "print(f'Number of tables read: {len(dfs)}')"
   ]
  },
  {
   "cell_type": "markdown",
   "id": "464b571e-ed5d-47eb-b0eb-9dcc7e57e563",
   "metadata": {},
   "source": [
    "## Time to answer some questions! \n",
    "\n",
    "1. What team has the stadium that can hold the most fans? "
   ]
  },
  {
   "cell_type": "code",
   "execution_count": 1,
   "id": "8eb6fda2-c240-4d13-a4bf-2ed16c99cb21",
   "metadata": {},
   "outputs": [],
   "source": [
    "# find the dataframe in the list that holds the relevant information. \n",
    "\n",
    "# -- you write this part -- "
   ]
  },
  {
   "cell_type": "code",
   "execution_count": 2,
   "id": "500f6ac1-6add-4c74-b21d-9c96e319b0a5",
   "metadata": {},
   "outputs": [],
   "source": [
    "# order by Capacity and grab the information from the first record. \n",
    "\n",
    "# -- you write this part -- "
   ]
  },
  {
   "cell_type": "code",
   "execution_count": 3,
   "id": "bfc46363-a1e8-4fc4-b8c4-9e8d8f5fb134",
   "metadata": {},
   "outputs": [],
   "source": [
    "# print the solution\n"
   ]
  },
  {
   "cell_type": "markdown",
   "id": "474542ff-230b-4fc2-813e-b0f3b04f5d51",
   "metadata": {},
   "source": [
    "2. How many teams are listed in the table we just looked at? "
   ]
  },
  {
   "cell_type": "code",
   "execution_count": 4,
   "id": "b17d4ac6-438e-48e8-a7d7-4051239ba368",
   "metadata": {},
   "outputs": [],
   "source": [
    "# -- you write this part -- "
   ]
  },
  {
   "cell_type": "code",
   "execution_count": 5,
   "id": "2cd938cd-2b0e-4edd-85dc-e5fa79471525",
   "metadata": {},
   "outputs": [],
   "source": [
    "# print the solution\n"
   ]
  },
  {
   "cell_type": "markdown",
   "id": "11ebe503-712a-4eb9-a7b0-f86505a0c2dc",
   "metadata": {
    "tags": []
   },
   "source": [
    "## Indeed Webpage Scraping\n",
    "\n",
    "Now we will use pandas to scrape a different website! "
   ]
  },
  {
   "cell_type": "code",
   "execution_count": 11,
   "id": "280a3e32-a211-4a8d-9a64-2de7a5b1087e",
   "metadata": {},
   "outputs": [],
   "source": [
    "URL = \"https://www.indeed.com/jobs?q=data%20analyst&l&vjk=cbcdc3d043ce15f7\""
   ]
  },
  {
   "cell_type": "code",
   "execution_count": 12,
   "id": "c3f0e9b2-c41e-474e-9497-841d64fab5c5",
   "metadata": {},
   "outputs": [
    {
     "name": "stdout",
     "output_type": "stream",
     "text": [
      "Number of tables read: 33\n"
     ]
    }
   ],
   "source": [
    "# use pandas to read the url\n",
    "dfs: list = pd.read_html(URL)\n",
    "\n",
    "# print the number of tables read into memory\n",
    "print(f'Number of tables read: {len(dfs)}')"
   ]
  },
  {
   "cell_type": "code",
   "execution_count": 13,
   "id": "68746929-cd88-4047-9429-647fddccb770",
   "metadata": {},
   "outputs": [
    {
     "data": {
      "text/plain": [
       "33"
      ]
     },
     "execution_count": 13,
     "metadata": {},
     "output_type": "execute_result"
    }
   ],
   "source": [
    "len(dfs)"
   ]
  },
  {
   "cell_type": "markdown",
   "id": "230df499-369d-44c0-8d33-5cf5e6029e9a",
   "metadata": {},
   "source": [
    "Let's inspect the dfs to see which ones actually hold the job descriptions"
   ]
  },
  {
   "cell_type": "code",
   "execution_count": 14,
   "id": "4133820b-0a7b-435b-a0f9-4066c91a0384",
   "metadata": {},
   "outputs": [
    {
     "data": {
      "text/html": [
       "<div>\n",
       "<style scoped>\n",
       "    .dataframe tbody tr th:only-of-type {\n",
       "        vertical-align: middle;\n",
       "    }\n",
       "\n",
       "    .dataframe tbody tr th {\n",
       "        vertical-align: top;\n",
       "    }\n",
       "\n",
       "    .dataframe thead th {\n",
       "        text-align: right;\n",
       "    }\n",
       "</style>\n",
       "<table border=\"1\" class=\"dataframe\">\n",
       "  <thead>\n",
       "    <tr style=\"text-align: right;\">\n",
       "      <th></th>\n",
       "      <th>0</th>\n",
       "    </tr>\n",
       "  </thead>\n",
       "  <tbody>\n",
       "    <tr>\n",
       "      <th>0</th>\n",
       "      <td>newHealthcare / Healthtech Business Data Analy...</td>\n",
       "    </tr>\n",
       "  </tbody>\n",
       "</table>\n",
       "</div>"
      ],
      "text/plain": [
       "                                                   0\n",
       "0  newHealthcare / Healthtech Business Data Analy..."
      ]
     },
     "execution_count": 14,
     "metadata": {},
     "output_type": "execute_result"
    }
   ],
   "source": [
    "# display the 5th dataframe in the list\n",
    "dfs[5]"
   ]
  },
  {
   "cell_type": "code",
   "execution_count": 15,
   "id": "d7fdead1-9ee6-4450-bf3d-858047b77911",
   "metadata": {},
   "outputs": [
    {
     "data": {
      "text/plain": [
       "0    newHealthcare / Healthtech Business Data Analy...\n",
       "Name: 0, dtype: object"
      ]
     },
     "execution_count": 15,
     "metadata": {},
     "output_type": "execute_result"
    }
   ],
   "source": [
    "# display the pandas series representing the 'column 0' \n",
    "dfs[5][0]"
   ]
  },
  {
   "cell_type": "code",
   "execution_count": 16,
   "id": "ef6aed6c-d1c1-4708-af72-42ae04ec2093",
   "metadata": {},
   "outputs": [
    {
     "data": {
      "text/plain": [
       "'newHealthcare / Healthtech Business Data AnalystConfidentialRemote$120,000 - $160,000 a yearFull-time'"
      ]
     },
     "execution_count": 16,
     "metadata": {},
     "output_type": "execute_result"
    }
   ],
   "source": [
    "dfs[5][0][0]"
   ]
  },
  {
   "cell_type": "markdown",
   "id": "5c45dadc-4883-4f98-b8b5-0d44c9523b46",
   "metadata": {},
   "source": [
    "Seems like every *other* dataframe holds a job description, and each description is stored as a string inside a dataframe. We can index the string out of each dataframe by first separating the column as a pandas series, then by grabbing the 0'th element from that series. \n",
    "\n",
    "Let's iterate through every other element in the list of dataframes, extracting the strings representing each job description and see what they look like: "
   ]
  },
  {
   "cell_type": "code",
   "execution_count": 17,
   "id": "5a01ab9d-ec7e-4a20-9aed-082193ec191b",
   "metadata": {},
   "outputs": [
    {
     "name": "stdout",
     "output_type": "stream",
     "text": [
      "newData Analyst (Remote)CAIA Association5.0Remote in Amherst, MAEstimated $79.2K – $100K a yearFull-time\n",
      "newHealthcare / Healthtech Business Data AnalystConfidentialRemote$120,000 - $160,000 a yearFull-time\n",
      "newVirtual Data AnalystSITE Improvement AssociationRemote$21.50 - $24.50 an hourFull-time\n",
      "newProgram Analyst - Data AnalyticsUS Veterans Health Administration3.9Richmond, VA$82,396 - $107,119 a yearFull-time\n",
      "Data AnalystAppcast Inc.2.8Lebanon, NH 03766+1 locationEstimated $59.9K – $75.9K a year\n",
      "Public Health Data AnalystLantana Consulting Group3.9East Thetford, VT 05043Estimated $46.7K – $59.1K a yearFull-time\n",
      "newAnalyst, Data and AnalysisDigitas3.8Boston, MA+3 locationsEstimated $52.2K – $66K a yearInternship\n",
      "Data Feed AnalystPCRRemote$75,000 - $110,000 a yearFull-time\n",
      "Business Analyst1StarrRemote$72,017 - $97,717 a yearFull-time\n"
     ]
    }
   ],
   "source": [
    "for i in range(3, 20, 2):\n",
    "    print(dfs[i][0][0])"
   ]
  },
  {
   "cell_type": "markdown",
   "id": "977a5149-7df0-459a-b635-0923fdad6941",
   "metadata": {},
   "source": [
    "## Open questions: "
   ]
  },
  {
   "cell_type": "markdown",
   "id": "557fff55-d977-4a62-b721-a42a75a0ffef",
   "metadata": {},
   "source": [
    "What could we do with this data? What insights could we make using these job listings?"
   ]
  },
  {
   "cell_type": "markdown",
   "id": "1d5d87ff-f180-4a58-9932-b9781b1302f2",
   "metadata": {},
   "source": [
    "- Talk to your neighbors and come up with two or three use cases"
   ]
  }
 ],
 "metadata": {
  "kernelspec": {
   "display_name": "Python 3 (ipykernel)",
   "language": "python",
   "name": "python3"
  },
  "language_info": {
   "codemirror_mode": {
    "name": "ipython",
    "version": 3
   },
   "file_extension": ".py",
   "mimetype": "text/x-python",
   "name": "python",
   "nbconvert_exporter": "python",
   "pygments_lexer": "ipython3",
   "version": "3.9.7"
  }
 },
 "nbformat": 4,
 "nbformat_minor": 5
}
