{
  "cells": [
    {
      "cell_type": "markdown",
      "metadata": {
        "id": "2lujc-VyVWsj"
      },
      "source": [
        "\n",
        "# ChatGPT API Notebook\n",
        "\n",
        "Author: Spencer Bertsch  \n",
        "Lab Date: April 18, 2023  \n",
        "DAPL, Dartmouth College  \n",
        "\n",
        "[OpenAI](https://openai.com/) recently released the python API for their tremendously successful large language model ChatGPT. This simple notebook will teach students how to make calls to this API, going over the necessary steps needed to do so. \n",
        "\n",
        "Parts of this notebook were adapted from [this blog post](https://blog.devgenius.io/chatgpt-how-to-use-it-with-python-5d729ac34c0d)."
      ]
    },
    {
      "cell_type": "markdown",
      "metadata": {
        "id": "ldHPNtMOWTo6"
      },
      "source": [
        "## Step 1: Create an OpenAI Account\n",
        "\n",
        "If you already have an OpenAI account, then you should visit [auth0.openai.com](https://auth0.openai.com/) and log in. If you don't have an account, then you should visit the same site and create an account. "
      ]
    },
    {
      "cell_type": "markdown",
      "metadata": {
        "id": "jiZAVnoRW1OB"
      },
      "source": [
        "## Step 2: Generate an API key \n",
        "\n",
        "After you have logged in, you should create an API key by going to \"personal\" in the upper right corner of the page, then selecting \"View API keys\".\n",
        "\n",
        "Next click \"Create new secret key\". You don't need to provide a name for the key. \n",
        "\n",
        "Paste the API key in the below code cell and run the cell. \n",
        "\n",
        "Do not share the key with anyone else or make it publicly available on the internet using, say, a public github repo. \n",
        "\n"
      ]
    },
    {
      "cell_type": "code",
      "execution_count": 41,
      "metadata": {
        "id": "-XmHiZB9U2F-"
      },
      "outputs": [],
      "source": [
        "# paste your secret key here\n",
        "api_key: str = \"-- API-KEY-HERE --\""
      ]
    },
    {
      "cell_type": "code",
      "execution_count": 42,
      "metadata": {
        "id": "LJ2Q0UeKdw-2"
      },
      "outputs": [],
      "source": [
        "assert len(api_key) > 20, f\"Hmm... Looks like your API key is still {api_key}. You still need to paste your secret key above.\""
      ]
    },
    {
      "cell_type": "markdown",
      "metadata": {
        "id": "8Oiq4_HKZL2n"
      },
      "source": [
        "## Step 3: Install the openai python client library\n",
        "\n",
        "We now need to ensure the openai python library is installed in our current environment so we will run a bash command to install the library if it's not already available. "
      ]
    },
    {
      "cell_type": "code",
      "execution_count": 43,
      "metadata": {
        "colab": {
          "base_uri": "https://localhost:8080/"
        },
        "id": "ujdNA7hpVKEo",
        "outputId": "75078052-f721-4b60-f6b3-5945c8b755c6"
      },
      "outputs": [
        {
          "name": "stdout",
          "output_type": "stream",
          "text": [
            "Looking in indexes: https://pypi.org/simple, https://us-python.pkg.dev/colab-wheels/public/simple/\n",
            "Requirement already satisfied: openai in /usr/local/lib/python3.9/dist-packages (0.27.4)\n",
            "Requirement already satisfied: aiohttp in /usr/local/lib/python3.9/dist-packages (from openai) (3.8.4)\n",
            "Requirement already satisfied: tqdm in /usr/local/lib/python3.9/dist-packages (from openai) (4.65.0)\n",
            "Requirement already satisfied: requests>=2.20 in /usr/local/lib/python3.9/dist-packages (from openai) (2.27.1)\n",
            "Requirement already satisfied: idna<4,>=2.5 in /usr/local/lib/python3.9/dist-packages (from requests>=2.20->openai) (3.4)\n",
            "Requirement already satisfied: certifi>=2017.4.17 in /usr/local/lib/python3.9/dist-packages (from requests>=2.20->openai) (2022.12.7)\n",
            "Requirement already satisfied: urllib3<1.27,>=1.21.1 in /usr/local/lib/python3.9/dist-packages (from requests>=2.20->openai) (1.26.15)\n",
            "Requirement already satisfied: charset-normalizer~=2.0.0 in /usr/local/lib/python3.9/dist-packages (from requests>=2.20->openai) (2.0.12)\n",
            "Requirement already satisfied: attrs>=17.3.0 in /usr/local/lib/python3.9/dist-packages (from aiohttp->openai) (22.2.0)\n",
            "Requirement already satisfied: yarl<2.0,>=1.0 in /usr/local/lib/python3.9/dist-packages (from aiohttp->openai) (1.8.2)\n",
            "Requirement already satisfied: frozenlist>=1.1.1 in /usr/local/lib/python3.9/dist-packages (from aiohttp->openai) (1.3.3)\n",
            "Requirement already satisfied: aiosignal>=1.1.2 in /usr/local/lib/python3.9/dist-packages (from aiohttp->openai) (1.3.1)\n",
            "Requirement already satisfied: multidict<7.0,>=4.5 in /usr/local/lib/python3.9/dist-packages (from aiohttp->openai) (6.0.4)\n",
            "Requirement already satisfied: async-timeout<5.0,>=4.0.0a3 in /usr/local/lib/python3.9/dist-packages (from aiohttp->openai) (4.0.2)\n"
          ]
        }
      ],
      "source": [
        "! pip install openai\n"
      ]
    },
    {
      "cell_type": "markdown",
      "metadata": {
        "id": "3O5yVLEaZ1xw"
      },
      "source": [
        "## Import openai library and call the ChatGPT API\n",
        "\n",
        "We can now import the openai python library and begin making api calls! "
      ]
    },
    {
      "cell_type": "code",
      "execution_count": 44,
      "metadata": {
        "id": "Rf2HTpe1VJ_g"
      },
      "outputs": [],
      "source": [
        "import openai\n",
        "\n",
        "# use your api key defined above\n",
        "openai.api_key = api_key\n",
        "\n",
        "# define a request query\n",
        "request_query: str = \"Why should students learn about large language models?\"\n"
      ]
    },
    {
      "cell_type": "code",
      "execution_count": 45,
      "metadata": {
        "id": "4e_UUs6je8NA"
      },
      "outputs": [],
      "source": [
        "# call the ChatCompletion API\n",
        "response = openai.ChatCompletion.create(\n",
        "    model=\"gpt-3.5-turbo\",\n",
        "    messages=[\n",
        "            {\"role\": \"system\", \"content\": \"You are a chatbot\"},\n",
        "            {\"role\": \"user\", \"content\": request_query},\n",
        "        ]\n",
        ")"
      ]
    },
    {
      "cell_type": "markdown",
      "metadata": {
        "id": "OQzz0lD8b5Mq"
      },
      "source": [
        "Let's look at what the API returned: "
      ]
    },
    {
      "cell_type": "code",
      "execution_count": 46,
      "metadata": {
        "colab": {
          "base_uri": "https://localhost:8080/"
        },
        "id": "B-WZ1HCYbv__",
        "outputId": "13ed3f9e-2944-42ba-9ca7-e05ea4a9a079"
      },
      "outputs": [
        {
          "data": {
            "text/plain": [
              "openai.openai_object.OpenAIObject"
            ]
          },
          "execution_count": 46,
          "metadata": {},
          "output_type": "execute_result"
        }
      ],
      "source": [
        "type(response)"
      ]
    },
    {
      "cell_type": "markdown",
      "metadata": {
        "id": "Ospy6AWJb-OT"
      },
      "source": [
        "It looks like we now have an object of type openai.openai_object.OpenAIObject... How can we get the text response that we so desire? Let's look at how this object is structured! \n",
        "\n",
        "You can always read more about ChatGPT APIs [here](https://platform.openai.com/docs/api-reference/making-requests?lang=python). "
      ]
    },
    {
      "cell_type": "code",
      "execution_count": 47,
      "metadata": {
        "colab": {
          "base_uri": "https://localhost:8080/"
        },
        "id": "F4cjOIt6clna",
        "outputId": "14a07aa6-513f-4f30-b774-0f69559c699f"
      },
      "outputs": [
        {
          "data": {
            "text/plain": [
              "<OpenAIObject chat.completion id=chatcmpl-7674SnzJjee2dZcJrijmMmKOKKuvY at 0x7fcbb44e1810> JSON: {\n",
              "  \"choices\": [\n",
              "    {\n",
              "      \"finish_reason\": \"stop\",\n",
              "      \"index\": 0,\n",
              "      \"message\": {\n",
              "        \"content\": \"There are several reasons why students should learn about large language models:\\n\\n1. They are becoming increasingly prevalent in everyday life, from virtual assistants like Siri and Alexa to chatbots like me. Students who understand how these models work will have a better understanding of how to interact with technology in the future.\\n\\n2. They are transforming industries like education, healthcare, and finance by enabling more accurate predictions and personalized recommendations. Students who understand these models will have a competitive edge in these fields.\\n\\n3. They are pushing the boundaries of artificial intelligence and natural language processing, which are some of the most exciting and rapidly advancing fields in computer science.\\n\\n4. They also pose questions about ethical considerations, such as data privacy and bias in AI algorithms, which students should be familiar with to make informed decisions about the future of technology.\",\n",
              "        \"role\": \"assistant\"\n",
              "      }\n",
              "    }\n",
              "  ],\n",
              "  \"created\": 1681691504,\n",
              "  \"id\": \"chatcmpl-7674SnzJjee2dZcJrijmMmKOKKuvY\",\n",
              "  \"model\": \"gpt-3.5-turbo-0301\",\n",
              "  \"object\": \"chat.completion\",\n",
              "  \"usage\": {\n",
              "    \"completion_tokens\": 161,\n",
              "    \"prompt_tokens\": 27,\n",
              "    \"total_tokens\": 188\n",
              "  }\n",
              "}"
            ]
          },
          "execution_count": 47,
          "metadata": {},
          "output_type": "execute_result"
        }
      ],
      "source": [
        "response"
      ]
    },
    {
      "cell_type": "markdown",
      "metadata": {
        "id": "OGFi_jyDcmvR"
      },
      "source": [
        "Great! So we can now see how to index our response from the openai.openai_object.OpenAIObject. "
      ]
    },
    {
      "cell_type": "code",
      "execution_count": 48,
      "metadata": {
        "colab": {
          "base_uri": "https://localhost:8080/",
          "height": 107
        },
        "id": "woTEd266cvrN",
        "outputId": "836f5c0d-cc3a-4dd2-8701-1e2cecb44391"
      },
      "outputs": [
        {
          "data": {
            "application/vnd.google.colaboratory.intrinsic+json": {
              "type": "string"
            },
            "text/plain": [
              "'There are several reasons why students should learn about large language models:\\n\\n1. They are becoming increasingly prevalent in everyday life, from virtual assistants like Siri and Alexa to chatbots like me. Students who understand how these models work will have a better understanding of how to interact with technology in the future.\\n\\n2. They are transforming industries like education, healthcare, and finance by enabling more accurate predictions and personalized recommendations. Students who understand these models will have a competitive edge in these fields.\\n\\n3. They are pushing the boundaries of artificial intelligence and natural language processing, which are some of the most exciting and rapidly advancing fields in computer science.\\n\\n4. They also pose questions about ethical considerations, such as data privacy and bias in AI algorithms, which students should be familiar with to make informed decisions about the future of technology.'"
            ]
          },
          "execution_count": 48,
          "metadata": {},
          "output_type": "execute_result"
        }
      ],
      "source": [
        "response.choices[0]['message']['content']"
      ]
    },
    {
      "cell_type": "markdown",
      "metadata": {
        "id": "gnBalGrRfONa"
      },
      "source": [
        "Our response is looking okay, but the formatting still needs some work... Let's borrow a code snipet from [this blog post](https://blog.devgenius.io/chatgpt-how-to-use-it-with-python-5d729ac34c0d) to clean up the response. "
      ]
    },
    {
      "cell_type": "code",
      "execution_count": 49,
      "metadata": {
        "id": "BhIZa9rQfJce"
      },
      "outputs": [],
      "source": [
        "def display_response(response):\n",
        "  result = ''\n",
        "  for choice in response.choices:\n",
        "      result += choice.message.content\n",
        "\n",
        "  print(result)"
      ]
    },
    {
      "cell_type": "code",
      "execution_count": 50,
      "metadata": {
        "colab": {
          "base_uri": "https://localhost:8080/"
        },
        "id": "RujLtpN5m8vl",
        "outputId": "a4a58de7-865a-4efc-d3fa-e94095b258cb"
      },
      "outputs": [
        {
          "name": "stdout",
          "output_type": "stream",
          "text": [
            "There are several reasons why students should learn about large language models:\n",
            "\n",
            "1. They are becoming increasingly prevalent in everyday life, from virtual assistants like Siri and Alexa to chatbots like me. Students who understand how these models work will have a better understanding of how to interact with technology in the future.\n",
            "\n",
            "2. They are transforming industries like education, healthcare, and finance by enabling more accurate predictions and personalized recommendations. Students who understand these models will have a competitive edge in these fields.\n",
            "\n",
            "3. They are pushing the boundaries of artificial intelligence and natural language processing, which are some of the most exciting and rapidly advancing fields in computer science.\n",
            "\n",
            "4. They also pose questions about ethical considerations, such as data privacy and bias in AI algorithms, which students should be familiar with to make informed decisions about the future of technology.\n"
          ]
        }
      ],
      "source": [
        "# display the response \n",
        "display_response(response=response)"
      ]
    },
    {
      "cell_type": "markdown",
      "metadata": {
        "id": "tmXh7kvadAwJ"
      },
      "source": [
        "Perfect! Now we can see ChatGPT's response to our query :)\n",
        "\n",
        "Now let's have some fun. "
      ]
    },
    {
      "cell_type": "markdown",
      "metadata": {
        "id": "YfIM6t1edTqc"
      },
      "source": [
        "## Dartmouth Questions"
      ]
    },
    {
      "cell_type": "code",
      "execution_count": 51,
      "metadata": {
        "id": "EkI6IYQrdSaA"
      },
      "outputs": [],
      "source": [
        "# define a request query\n",
        "request_query: str = \"Tell me about the Dartmouth outing club.\""
      ]
    },
    {
      "cell_type": "code",
      "execution_count": 52,
      "metadata": {
        "colab": {
          "base_uri": "https://localhost:8080/"
        },
        "id": "k5S9wc5GfflQ",
        "outputId": "7fa29562-be3f-4be9-86b0-352d9f4357bf"
      },
      "outputs": [
        {
          "name": "stdout",
          "output_type": "stream",
          "text": [
            "The Dartmouth Outing Club (DOC) is the oldest and largest collegiate outing club in the United States, located at Dartmouth College in Hanover, New Hampshire. Founded in 1909, the DOC has a rich history of promoting outdoor recreation and environmental awareness through its many programs and activities, such as hiking, backpacking, rock climbing, skiing, canoeing, and kayaking. The club also operates several cabins and lodges in the White Mountains, as well as a popular skiway on nearby Holt's Ledge. The DOC has over 1,800 active members and is committed to fostering a culture of outdoor adventure and stewardship that lasts a lifetime.\n"
          ]
        }
      ],
      "source": [
        "# call the ChatCompletion API\n",
        "response = openai.ChatCompletion.create(\n",
        "    model=\"gpt-3.5-turbo\",\n",
        "    messages=[\n",
        "            {\"role\": \"system\", \"content\": \"You are a chatbot\"},\n",
        "            {\"role\": \"user\", \"content\": request_query},\n",
        "        ]\n",
        ")\n",
        "\n",
        "# display the response \n",
        "display_response(response=response)"
      ]
    },
    {
      "attachments": {},
      "cell_type": "markdown",
      "metadata": {
        "id": "AqNC9BfjbPRp"
      },
      "source": [
        "## Time to get meta...\n",
        "\n",
        "Now that we have the code needed to call the ChatGPT API, let's use the API to generate a python script capable of calling the ChatGPT API! Maybe there's a cleaner implementation that we didn't consider :)"
      ]
    },
    {
      "cell_type": "code",
      "execution_count": 53,
      "metadata": {
        "id": "JkfKQwJHVJxm"
      },
      "outputs": [],
      "source": [
        "# define a request query\n",
        "request_query: str = \"Please create a python script that can call the ChatGPT API.\""
      ]
    },
    {
      "cell_type": "code",
      "execution_count": 54,
      "metadata": {
        "colab": {
          "base_uri": "https://localhost:8080/"
        },
        "id": "5AD8fHLtf5pY",
        "outputId": "ca150c29-2510-470c-8745-4e8fce90d331"
      },
      "outputs": [
        {
          "name": "stdout",
          "output_type": "stream",
          "text": [
            "Sure, here is an example Python script that can call the OpenAI GPT-3 API:\n",
            "\n",
            "```python\n",
            "import openai\n",
            "import os\n",
            "\n",
            "# Set up API key\n",
            "openai.api_key = os.environ[\"OPENAI_API_KEY\"]\n",
            "\n",
            "# Set up prompt and parameters\n",
            "prompt = \"Hello, I'm a chatbot. What can I help you with today?\"\n",
            "parameters = {\n",
            "    \"engine\": \"davinci\",\n",
            "    \"temperature\": 0.5,\n",
            "    \"max_tokens\": 100,\n",
            "    \"top_p\": 1,\n",
            "    \"frequency_penalty\": 0,\n",
            "    \"presence_penalty\": 0\n",
            "}\n",
            "\n",
            "# Call the API\n",
            "response = openai.Completion.create(\n",
            "    engine=parameters[\"engine\"],\n",
            "    prompt=prompt,\n",
            "    temperature=parameters[\"temperature\"],\n",
            "    max_tokens=parameters[\"max_tokens\"],\n",
            "    top_p=parameters[\"top_p\"],\n",
            "    frequency_penalty=parameters[\"frequency_penalty\"],\n",
            "    presence_penalty=parameters[\"presence_penalty\"]\n",
            ")\n",
            "\n",
            "# Print result\n",
            "result = response.choices[0].text\n",
            "print(result)\n",
            "```\n",
            "\n",
            "Make sure to replace `os.environ[\"OPENAI_API_KEY\"]` with your actual OpenAI API key. You can get your API key by following the instructions here: https://beta.openai.com/docs/developer-quickstart/your-api-keys\n"
          ]
        }
      ],
      "source": [
        "# call the ChatCompletion API\n",
        "response = openai.ChatCompletion.create(\n",
        "    model=\"gpt-3.5-turbo\",\n",
        "    messages=[\n",
        "            {\"role\": \"system\", \"content\": \"You are a chatbot\"},\n",
        "            {\"role\": \"user\", \"content\": request_query},\n",
        "        ]\n",
        ")\n",
        "\n",
        "display_response(response=response)"
      ]
    },
    {
      "attachments": {},
      "cell_type": "markdown",
      "metadata": {
        "id": "w_gfHAa7gLwu"
      },
      "source": [
        "## Did we just make ourselves obsolete?... Hmm...\n",
        "\n",
        "**And you're done! Congradulations!** Feel free to submit your own request queries to the ChatGPT API below, or bolster your knowledge of LLMs with the articles linked below. "
      ]
    },
    {
      "cell_type": "markdown",
      "metadata": {
        "id": "2MFbz6a6dcRc"
      },
      "source": [
        "## Ask your own quesitons\n",
        "\n",
        "Feel free to submit custom queries to the ChatGPT API programatically! "
      ]
    },
    {
      "cell_type": "code",
      "execution_count": null,
      "metadata": {
        "id": "t-5VmznoVJdk"
      },
      "outputs": [],
      "source": [
        "# define a request query\n",
        "request_query: str = \"-- YOUR REQUEST QUERY HERE --\""
      ]
    },
    {
      "cell_type": "code",
      "execution_count": null,
      "metadata": {
        "id": "eP3zAJ5Tmf-3"
      },
      "outputs": [],
      "source": [
        "# call the ChatCompletion API\n",
        "response = openai.ChatCompletion.create(\n",
        "    model=\"gpt-3.5-turbo\",\n",
        "    messages=[\n",
        "            {\"role\": \"system\", \"content\": \"You are a chatbot\"},\n",
        "            {\"role\": \"user\", \"content\": request_query},\n",
        "        ]\n",
        ")\n",
        "\n",
        "display_response(response=response)"
      ]
    },
    {
      "cell_type": "markdown",
      "metadata": {
        "id": "ggSRzm0Fdjfb"
      },
      "source": [
        "###  Feel free to check out the additional resources on large language models: \n",
        "\n",
        "1. [nvidia - What Are Large Language Models Used For?](https://blogs.nvidia.com/blog/2023/01/26/what-are-large-language-models-used-for/)\n",
        "2. [OpenAI - Better language models and their implications](https://openai.com/research/better-language-models)\n",
        "3. [NTYimes - How Does ChatGPT Really Work?](https://www.nytimes.com/2023/03/28/technology/ai-chatbots-chatgpt-bing-bard-llm.html)"
      ]
    }
  ],
  "metadata": {
    "colab": {
      "provenance": []
    },
    "kernelspec": {
      "display_name": "Python 3",
      "name": "python3"
    },
    "language_info": {
      "name": "python"
    }
  },
  "nbformat": 4,
  "nbformat_minor": 0
}
