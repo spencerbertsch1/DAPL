{
 "cells": [
  {
   "cell_type": "markdown",
   "id": "d56ed689-b0f2-4c52-93b0-b4f0b2b5c0bd",
   "metadata": {
    "tags": []
   },
   "source": [
    "# DAPL Data Visualization Intro\n",
    "\n",
    "Learning the basics of Matplotlib!"
   ]
  },
  {
   "cell_type": "markdown",
   "id": "06385c2d-73cc-4c1f-9b6a-0e7e9a4346d6",
   "metadata": {},
   "source": [
    "First, what is matplotlib? \n",
    "\n",
    "According to [matplotlib.org](matplotlib.org), \"Matplotlib is a comprehensive library for creating static, animated, and interactive visualizations in Python. Matplotlib makes easy things easy and hard things possible.\""
   ]
  },
  {
   "cell_type": "markdown",
   "id": "0d9590d4-6bcc-4759-954a-41165c8cad65",
   "metadata": {},
   "source": [
    "Remember to rely on [this aws page](https://aws.amazon.com/data-visualization/) to find out which plot to use! "
   ]
  },
  {
   "cell_type": "code",
   "execution_count": 1,
   "id": "9f548a90-d51d-491e-af47-addbca55de49",
   "metadata": {},
   "outputs": [],
   "source": [
    "import pandas as pd\n",
    "import matplotlib.pyplot as plt"
   ]
  },
  {
   "cell_type": "code",
   "execution_count": 2,
   "id": "48a0e0f9-a8f2-4040-98e3-dd1020efb8bc",
   "metadata": {},
   "outputs": [
    {
     "data": {
      "text/html": [
       "<div>\n",
       "<style scoped>\n",
       "    .dataframe tbody tr th:only-of-type {\n",
       "        vertical-align: middle;\n",
       "    }\n",
       "\n",
       "    .dataframe tbody tr th {\n",
       "        vertical-align: top;\n",
       "    }\n",
       "\n",
       "    .dataframe thead th {\n",
       "        text-align: right;\n",
       "    }\n",
       "</style>\n",
       "<table border=\"1\" class=\"dataframe\">\n",
       "  <thead>\n",
       "    <tr style=\"text-align: right;\">\n",
       "      <th></th>\n",
       "      <th>sepal_length</th>\n",
       "      <th>sepal_width</th>\n",
       "      <th>petal_length</th>\n",
       "      <th>petal_width</th>\n",
       "      <th>species</th>\n",
       "    </tr>\n",
       "  </thead>\n",
       "  <tbody>\n",
       "    <tr>\n",
       "      <th>0</th>\n",
       "      <td>5.1</td>\n",
       "      <td>3.5</td>\n",
       "      <td>1.4</td>\n",
       "      <td>0.2</td>\n",
       "      <td>setosa</td>\n",
       "    </tr>\n",
       "    <tr>\n",
       "      <th>1</th>\n",
       "      <td>4.9</td>\n",
       "      <td>3.0</td>\n",
       "      <td>1.4</td>\n",
       "      <td>0.2</td>\n",
       "      <td>setosa</td>\n",
       "    </tr>\n",
       "    <tr>\n",
       "      <th>2</th>\n",
       "      <td>4.7</td>\n",
       "      <td>3.2</td>\n",
       "      <td>1.3</td>\n",
       "      <td>0.2</td>\n",
       "      <td>setosa</td>\n",
       "    </tr>\n",
       "    <tr>\n",
       "      <th>3</th>\n",
       "      <td>4.6</td>\n",
       "      <td>3.1</td>\n",
       "      <td>1.5</td>\n",
       "      <td>0.2</td>\n",
       "      <td>setosa</td>\n",
       "    </tr>\n",
       "    <tr>\n",
       "      <th>4</th>\n",
       "      <td>5.0</td>\n",
       "      <td>3.6</td>\n",
       "      <td>1.4</td>\n",
       "      <td>0.2</td>\n",
       "      <td>setosa</td>\n",
       "    </tr>\n",
       "    <tr>\n",
       "      <th>...</th>\n",
       "      <td>...</td>\n",
       "      <td>...</td>\n",
       "      <td>...</td>\n",
       "      <td>...</td>\n",
       "      <td>...</td>\n",
       "    </tr>\n",
       "    <tr>\n",
       "      <th>145</th>\n",
       "      <td>6.7</td>\n",
       "      <td>3.0</td>\n",
       "      <td>5.2</td>\n",
       "      <td>2.3</td>\n",
       "      <td>virginica</td>\n",
       "    </tr>\n",
       "    <tr>\n",
       "      <th>146</th>\n",
       "      <td>6.3</td>\n",
       "      <td>2.5</td>\n",
       "      <td>5.0</td>\n",
       "      <td>1.9</td>\n",
       "      <td>virginica</td>\n",
       "    </tr>\n",
       "    <tr>\n",
       "      <th>147</th>\n",
       "      <td>6.5</td>\n",
       "      <td>3.0</td>\n",
       "      <td>5.2</td>\n",
       "      <td>2.0</td>\n",
       "      <td>virginica</td>\n",
       "    </tr>\n",
       "    <tr>\n",
       "      <th>148</th>\n",
       "      <td>6.2</td>\n",
       "      <td>3.4</td>\n",
       "      <td>5.4</td>\n",
       "      <td>2.3</td>\n",
       "      <td>virginica</td>\n",
       "    </tr>\n",
       "    <tr>\n",
       "      <th>149</th>\n",
       "      <td>5.9</td>\n",
       "      <td>3.0</td>\n",
       "      <td>5.1</td>\n",
       "      <td>1.8</td>\n",
       "      <td>virginica</td>\n",
       "    </tr>\n",
       "  </tbody>\n",
       "</table>\n",
       "<p>150 rows × 5 columns</p>\n",
       "</div>"
      ],
      "text/plain": [
       "     sepal_length  sepal_width  petal_length  petal_width    species\n",
       "0             5.1          3.5           1.4          0.2     setosa\n",
       "1             4.9          3.0           1.4          0.2     setosa\n",
       "2             4.7          3.2           1.3          0.2     setosa\n",
       "3             4.6          3.1           1.5          0.2     setosa\n",
       "4             5.0          3.6           1.4          0.2     setosa\n",
       "..            ...          ...           ...          ...        ...\n",
       "145           6.7          3.0           5.2          2.3  virginica\n",
       "146           6.3          2.5           5.0          1.9  virginica\n",
       "147           6.5          3.0           5.2          2.0  virginica\n",
       "148           6.2          3.4           5.4          2.3  virginica\n",
       "149           5.9          3.0           5.1          1.8  virginica\n",
       "\n",
       "[150 rows x 5 columns]"
      ]
     },
     "execution_count": 2,
     "metadata": {},
     "output_type": "execute_result"
    }
   ],
   "source": [
    "iris = pd.read_csv('https://raw.githubusercontent.com/mwaskom/seaborn-data/master/iris.csv')\n",
    "iris"
   ]
  },
  {
   "cell_type": "markdown",
   "id": "666083a9-0b58-45b1-aec9-698667692316",
   "metadata": {},
   "source": [
    "Perfect! So now we have loaded the Iris data set into memory using Pandas. If you want to find out more about the iris data set, you can read about it [here.](https://en.wikipedia.org/wiki/Iris_flower_data_set)"
   ]
  },
  {
   "cell_type": "markdown",
   "id": "e241d9e2-6a24-4408-966c-8d0a95791e86",
   "metadata": {},
   "source": [
    "Let's create a plot that shows the relationship between sepal length and petal length. We use a scatter plot for this"
   ]
  },
  {
   "cell_type": "code",
   "execution_count": 3,
   "id": "e5395cbc-d3b5-4fee-b1a2-a7af1c177786",
   "metadata": {},
   "outputs": [
    {
     "data": {
      "text/plain": [
       "<matplotlib.collections.PathCollection at 0x7fa17802c700>"
      ]
     },
     "execution_count": 3,
     "metadata": {},
     "output_type": "execute_result"
    },
    {
     "data": {
      "image/png": "[encoded data removed]",
      "text/plain": [
       "<Figure size 432x288 with 1 Axes>"
      ]
     },
     "metadata": {
      "needs_background": "light"
     },
     "output_type": "display_data"
    }
   ],
   "source": [
    "plt.scatter(iris['sepal_length'], iris['petal_length'])"
   ]
  },
  {
   "cell_type": "markdown",
   "id": "78581c06-22a2-408c-ba18-fbaf0543ce61",
   "metadata": {},
   "source": [
    "Let's add a few more assets to make the plot more readable "
   ]
  },
  {
   "cell_type": "code",
   "execution_count": 4,
   "id": "37bebd0f-4d06-4b9c-bba0-e3173a49548d",
   "metadata": {},
   "outputs": [
    {
     "data": {
      "text/plain": [
       "Text(0, 0.5, 'Petal_Length')"
      ]
     },
     "execution_count": 4,
     "metadata": {},
     "output_type": "execute_result"
    },
    {
     "data": {
      "image/png": "[encoded data removed]",
      "text/plain": [
       "<Figure size 432x288 with 1 Axes>"
      ]
     },
     "metadata": {
      "needs_background": "light"
     },
     "output_type": "display_data"
    }
   ],
   "source": [
    "plt.scatter(iris['sepal_length'], iris['petal_length'])\n",
    "plt.title('Sepal Length vs. Petal Length')\n",
    "plt.xlabel('Sepal_Length')\n",
    "plt.ylabel('Petal_Length')"
   ]
  },
  {
   "cell_type": "markdown",
   "id": "af238cd8-cfca-4b54-afd6-126075c9ab0f",
   "metadata": {},
   "source": [
    "Great! So now we know how to make a 2d scatter plot. \n",
    "\n",
    "The number of ways to visualize this data set are virtually endless, but for the sake of brevity let's move on to the simple histogram: "
   ]
  },
  {
   "cell_type": "code",
   "execution_count": 5,
   "id": "60787a47-83bc-443a-ba5f-1c7f05dfb9f5",
   "metadata": {},
   "outputs": [
    {
     "data": {
      "text/plain": [
       "Text(0, 0.5, 'Frequency')"
      ]
     },
     "execution_count": 5,
     "metadata": {},
     "output_type": "execute_result"
    },
    {
     "data": {
      "image/png": "[encoded data removed]",
      "text/plain": [
       "<Figure size 432x288 with 1 Axes>"
      ]
     },
     "metadata": {
      "needs_background": "light"
     },
     "output_type": "display_data"
    }
   ],
   "source": [
    "# create the figure and axis \n",
    "fig, ax = plt.subplots()\n",
    "\n",
    "# plot the actual histogram \n",
    "ax.hist(iris['sepal_width'])\n",
    "\n",
    "# set title and labels\n",
    "ax.set_title('Sepal Width Histogram')\n",
    "ax.set_xlabel('Petal Length')\n",
    "ax.set_ylabel('Frequency')"
   ]
  },
  {
   "cell_type": "markdown",
   "id": "ee38e6b1-9087-42b9-bb04-af0f786401cc",
   "metadata": {},
   "source": [
    "**Tip**: You can use 'figsize' to change the dimensions of the plot like this: "
   ]
  },
  {
   "cell_type": "code",
   "execution_count": 6,
   "id": "8762e5c7-113b-4e90-aecd-34ab2aa692b7",
   "metadata": {},
   "outputs": [
    {
     "data": {
      "text/plain": [
       "Text(0, 0.5, 'Frequency')"
      ]
     },
     "execution_count": 6,
     "metadata": {},
     "output_type": "execute_result"
    },
    {
     "data": {
      "image/png": "[encoded data removed]",
      "text/plain": [
       "<Figure size 1080x288 with 1 Axes>"
      ]
     },
     "metadata": {
      "needs_background": "light"
     },
     "output_type": "display_data"
    }
   ],
   "source": [
    "# create the figure and axis \n",
    "fig, ax = plt.subplots(figsize=(15, 4))\n",
    "\n",
    "# plot the actual histogram \n",
    "ax.hist(iris['sepal_width'])\n",
    "\n",
    "# set title and labels\n",
    "ax.set_title('Sepal Width Histogram')\n",
    "ax.set_xlabel('Petal Length')\n",
    "ax.set_ylabel('Frequency')"
   ]
  },
  {
   "cell_type": "markdown",
   "id": "c3407a50-60ac-4941-b051-cda42cf0cc96",
   "metadata": {},
   "source": [
    "Now what if we wanted to compare the total petal length for each species? What type of data visualization should we use for that? \n",
    "\n",
    "Well if we consult our handy [aws data visualization page](https://aws.amazon.com/data-visualization/), we can see that we should use a bar chart! A column chart works well here too, so that's what we will use."
   ]
  },
  {
   "cell_type": "code",
   "execution_count": 7,
   "id": "455eceed-e85d-4cb0-a5bc-c42924bb63a7",
   "metadata": {},
   "outputs": [
    {
     "data": {
      "text/html": [
       "<div>\n",
       "<style scoped>\n",
       "    .dataframe tbody tr th:only-of-type {\n",
       "        vertical-align: middle;\n",
       "    }\n",
       "\n",
       "    .dataframe tbody tr th {\n",
       "        vertical-align: top;\n",
       "    }\n",
       "\n",
       "    .dataframe thead th {\n",
       "        text-align: right;\n",
       "    }\n",
       "</style>\n",
       "<table border=\"1\" class=\"dataframe\">\n",
       "  <thead>\n",
       "    <tr style=\"text-align: right;\">\n",
       "      <th></th>\n",
       "      <th>species</th>\n",
       "      <th>petal_length</th>\n",
       "    </tr>\n",
       "  </thead>\n",
       "  <tbody>\n",
       "    <tr>\n",
       "      <th>0</th>\n",
       "      <td>setosa</td>\n",
       "      <td>73.1</td>\n",
       "    </tr>\n",
       "    <tr>\n",
       "      <th>1</th>\n",
       "      <td>versicolor</td>\n",
       "      <td>213.0</td>\n",
       "    </tr>\n",
       "    <tr>\n",
       "      <th>2</th>\n",
       "      <td>virginica</td>\n",
       "      <td>277.6</td>\n",
       "    </tr>\n",
       "  </tbody>\n",
       "</table>\n",
       "</div>"
      ],
      "text/plain": [
       "      species  petal_length\n",
       "0      setosa          73.1\n",
       "1  versicolor         213.0\n",
       "2   virginica         277.6"
      ]
     },
     "execution_count": 7,
     "metadata": {},
     "output_type": "execute_result"
    }
   ],
   "source": [
    "# first we want to find the sum of all the petal lengths for each species \n",
    "petal_length_agg_df = iris.groupby('species')['petal_length'].sum()\n",
    "petal_length_agg_df = petal_length_agg_df.to_frame().reset_index()\n",
    "petal_length_agg_df"
   ]
  },
  {
   "cell_type": "code",
   "execution_count": 8,
   "id": "455240bf-6392-41b3-9d2c-97d84bfc26f9",
   "metadata": {},
   "outputs": [
    {
     "data": {
      "text/plain": [
       "<BarContainer object of 3 artists>"
      ]
     },
     "execution_count": 8,
     "metadata": {},
     "output_type": "execute_result"
    },
    {
     "data": {
      "image/png": "[encoded data removed]",
      "text/plain": [
       "<Figure size 432x288 with 1 Axes>"
      ]
     },
     "metadata": {
      "needs_background": "light"
     },
     "output_type": "display_data"
    }
   ],
   "source": [
    "#Now we can create the bar chart using this data\n",
    "plt.bar(petal_length_agg_df['species'], petal_length_agg_df['petal_length']) "
   ]
  },
  {
   "cell_type": "markdown",
   "id": "426ec37c-2793-467f-890e-f701b88a337d",
   "metadata": {},
   "source": [
    "Great! So we can see the total length for the virginica species is much longer than the setosa species. Let's add a few more interesting things to make this plot more interesting:"
   ]
  },
  {
   "cell_type": "markdown",
   "id": "c51eed92-8b16-4c65-8465-e0c53bbba5a0",
   "metadata": {},
   "source": [
    "**Tip:** You can change the font size of just about anything in a matplotlib figure by passing the optional 'fontsize' parameter:"
   ]
  },
  {
   "cell_type": "code",
   "execution_count": 9,
   "id": "d22daceb-429c-465f-b01e-e7e547cfc38e",
   "metadata": {},
   "outputs": [
    {
     "data": {
      "text/plain": [
       "Text(0, 0.5, 'Total Petal Length')"
      ]
     },
     "execution_count": 9,
     "metadata": {},
     "output_type": "execute_result"
    },
    {
     "data": {
      "image/png": "[encoded data removed]",
      "text/plain": [
       "<Figure size 432x288 with 1 Axes>"
      ]
     },
     "metadata": {
      "needs_background": "light"
     },
     "output_type": "display_data"
    }
   ],
   "source": [
    "#Now we can create the bar chart using this data\n",
    "plt.bar(petal_length_agg_df['species'], petal_length_agg_df['petal_length']) \n",
    "plt.title('Total Petal Length by Species', fontsize=25)\n",
    "plt.xlabel('Species', fontsize=20)\n",
    "plt.ylabel('Total Petal Length', fontsize=20)"
   ]
  },
  {
   "cell_type": "markdown",
   "id": "e7351438-ba51-4165-917a-df555431a571",
   "metadata": {},
   "source": [
    "Last thing: let's change the colors of the plot! We can do this by passing an optional list of strings to plt.bar() "
   ]
  },
  {
   "cell_type": "code",
   "execution_count": 10,
   "id": "a7db6947-de4b-4953-aa89-d403191868b8",
   "metadata": {},
   "outputs": [
    {
     "data": {
      "text/plain": [
       "Text(0, 0.5, 'Total Petal Length')"
      ]
     },
     "execution_count": 10,
     "metadata": {},
     "output_type": "execute_result"
    },
    {
     "data": {
      "image/png": "[encoded data removed]",
      "text/plain": [
       "<Figure size 432x288 with 1 Axes>"
      ]
     },
     "metadata": {
      "needs_background": "light"
     },
     "output_type": "display_data"
    }
   ],
   "source": [
    "#Now we can create the bar chart using this data\n",
    "plt.bar(petal_length_agg_df['species'], petal_length_agg_df['petal_length'], color=['orange', 'skyblue', 'darkorange']) \n",
    "plt.title('Total Petal Length by Species', fontsize=25)\n",
    "plt.xlabel('Species', fontsize=20)\n",
    "plt.ylabel('Total Petal Length', fontsize=20)"
   ]
  },
  {
   "cell_type": "markdown",
   "id": "c7707569-de23-40af-b1dd-de9e17798952",
   "metadata": {},
   "source": [
    "And again, let's say we wanted to make this plot very large for some reason. We could do that like this: "
   ]
  },
  {
   "cell_type": "code",
   "execution_count": 11,
   "id": "e334fa5f-9382-4b17-a786-c5d37d7d1a3b",
   "metadata": {},
   "outputs": [
    {
     "data": {
      "text/plain": [
       "Text(0, 0.5, 'Total Petal Length')"
      ]
     },
     "execution_count": 11,
     "metadata": {},
     "output_type": "execute_result"
    },
    {
     "data": {
      "image/png": "[encoded data removed]",
      "text/plain": [
       "<Figure size 1080x504 with 1 Axes>"
      ]
     },
     "metadata": {
      "needs_background": "light"
     },
     "output_type": "display_data"
    }
   ],
   "source": [
    "fig, ax = plt.subplots(figsize=(15, 7))\n",
    "#Now we can create the bar chart using this data\n",
    "plt.bar(petal_length_agg_df['species'], petal_length_agg_df['petal_length'], color=['orange', 'skyblue', 'darkorange']) \n",
    "plt.title('Total Petal Length by Species', fontsize=25)\n",
    "plt.xlabel('Species', fontsize=20)\n",
    "plt.ylabel('Total Petal Length', fontsize=20)"
   ]
  },
  {
   "cell_type": "markdown",
   "id": "5888d353-2cb1-4757-acc2-6f0ce97f0302",
   "metadata": {},
   "source": [
    "And that wraps up a very high-level introduction to creating data visualizations with matplotlib! "
   ]
  }
 ],
 "metadata": {
  "kernelspec": {
   "display_name": "Python 3 (ipykernel)",
   "language": "python",
   "name": "python3"
  },
  "language_info": {
   "codemirror_mode": {
    "name": "ipython",
    "version": 3
   },
   "file_extension": ".py",
   "mimetype": "text/x-python",
   "name": "python",
   "nbconvert_exporter": "python",
   "pygments_lexer": "ipython3",
   "version": "3.9.7"
  }
 },
 "nbformat": 4,
 "nbformat_minor": 5
}
